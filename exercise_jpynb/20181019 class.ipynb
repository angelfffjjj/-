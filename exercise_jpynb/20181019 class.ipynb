{
 "cells": [
  {
   "cell_type": "code",
   "execution_count": 1,
   "metadata": {},
   "outputs": [
    {
     "name": "stdout",
     "output_type": "stream",
     "text": [
      "請輸入姓名林逸璇\n",
      "請輸入國⽂成績87\n",
      "請輸入英⽂成績100\n",
      "姓名         國⽂   英⽂\n",
      "林逸璇           87   100\n"
     ]
    }
   ],
   "source": [
    "name = input(\"請輸入姓名\")\n",
    "chinese_grade = input(\"請輸入國⽂成績\")\n",
    "english_grade = input(\"請輸入英⽂成績\")\n",
    "print(\"{0:8}{1:>5}{2:>5}\" .format(\"姓名\",\"國⽂\",\"英⽂\"))\n",
    "print(\"{0:<10}{1:>6}{2:>6}\" .format(name,chinese_grade,english_grade))\n"
   ]
  },
  {
   "cell_type": "code",
   "execution_count": 2,
   "metadata": {},
   "outputs": [
    {
     "data": {
      "text/plain": [
       "1"
      ]
     },
     "execution_count": 2,
     "metadata": {},
     "output_type": "execute_result"
    }
   ],
   "source": [
    "#+加 -減 *乘 /除 **次方 %回傳餘數\n",
    "8 + 7\n",
    "8 - 7\n",
    "8 * 7\n",
    "8 / 7\n",
    "8 ** 2\n",
    "8 % 7"
   ]
  },
  {
   "cell_type": "code",
   "execution_count": 3,
   "metadata": {},
   "outputs": [
    {
     "data": {
      "text/plain": [
       "str"
      ]
     },
     "execution_count": 3,
     "metadata": {},
     "output_type": "execute_result"
    }
   ],
   "source": [
    "8 / 7.0\n",
    "8 + (8 + 7j)\n",
    "\"---\"\n",
    "type(8 / 7.0)\n",
    "type(8 + (8 + 7j))\n",
    "type(\"---\")"
   ]
  },
  {
   "cell_type": "code",
   "execution_count": 4,
   "metadata": {},
   "outputs": [
    {
     "name": "stdout",
     "output_type": "stream",
     "text": [
      "10\n"
     ]
    }
   ],
   "source": [
    "# int()強制轉換為整數資料型態\n",
    "x = \"5\"\n",
    "num = 5 + int(x)\n",
    "print(num)"
   ]
  },
  {
   "cell_type": "code",
   "execution_count": 5,
   "metadata": {},
   "outputs": [
    {
     "name": "stdout",
     "output_type": "stream",
     "text": [
      "10.3\n"
     ]
    }
   ],
   "source": [
    "#float()強制轉換為浮點數資料型態\n",
    "x = \"5.3\"\n",
    "num = 5 + float(x)\n",
    "print(num)"
   ]
  },
  {
   "cell_type": "code",
   "execution_count": 4,
   "metadata": {},
   "outputs": [
    {
     "name": "stdout",
     "output_type": "stream",
     "text": [
      "輸出的數值是10.3\n"
     ]
    }
   ],
   "source": [
    "#str()強制轉換為字串資料型態\n",
    "x = \"5.3\"\n",
    "num = 5 + float(x)\n",
    "print(\"輸出的數值是\" + str(num))\n",
    "\n"
   ]
  },
  {
   "cell_type": "code",
   "execution_count": 7,
   "metadata": {},
   "outputs": [
    {
     "data": {
      "text/plain": [
       "True"
      ]
     },
     "execution_count": 7,
     "metadata": {},
     "output_type": "execute_result"
    }
   ],
   "source": [
    "8 == 7\n",
    "8 != 7\n",
    "8 > 7\n",
    "8 < 7\n",
    "8 > 7"
   ]
  },
  {
   "cell_type": "code",
   "execution_count": 8,
   "metadata": {},
   "outputs": [
    {
     "name": "stdout",
     "output_type": "stream",
     "text": [
      "---\n"
     ]
    },
    {
     "data": {
      "text/plain": [
       "True"
      ]
     },
     "execution_count": 8,
     "metadata": {},
     "output_type": "execute_result"
    }
   ],
   "source": [
    "True == 1\n",
    "True == 1.0\n",
    "True == 1 + 0j\n",
    "print(\"---\")\n",
    "False == 0\n",
    "False == 0.0\n",
    "False == 0 + 0j"
   ]
  },
  {
   "cell_type": "code",
   "execution_count": 9,
   "metadata": {},
   "outputs": [
    {
     "data": {
      "text/plain": [
       "'I am loving it!'"
      ]
     },
     "execution_count": 9,
     "metadata": {},
     "output_type": "execute_result"
    }
   ],
   "source": [
    "'I am loving it!'"
   ]
  },
  {
   "cell_type": "code",
   "execution_count": 10,
   "metadata": {},
   "outputs": [
    {
     "data": {
      "text/plain": [
       "\"I'm loving it!\""
      ]
     },
     "execution_count": 10,
     "metadata": {},
     "output_type": "execute_result"
    }
   ],
   "source": [
    "'I\\'m loving it!'"
   ]
  },
  {
   "cell_type": "code",
   "execution_count": 11,
   "metadata": {},
   "outputs": [
    {
     "data": {
      "text/plain": [
       "'I don\\'t think you\\'ll ever be just \"anybody\".'"
      ]
     },
     "execution_count": 11,
     "metadata": {},
     "output_type": "execute_result"
    }
   ],
   "source": [
    "'I am loving it!'\n",
    "'I\\'m loving it!'\n",
    "'I don\\'t think you\\'ll ever be just \"anybody\".'\n",
    "\"I don't think you'll ever be just \\\"anybody\\\".\""
   ]
  },
  {
   "cell_type": "code",
   "execution_count": 13,
   "metadata": {},
   "outputs": [
    {
     "name": "stdout",
     "output_type": "stream",
     "text": [
      "Hello!How Are You?\n",
      "Hello!Hello!Hello!\n",
      "Hello!\n",
      "How Are You?\n",
      "I'm loving it!\n",
      "I'm loving it!!!\n"
     ]
    }
   ],
   "source": [
    "str1 = \"Hello!\" + \"How Are You?\"\n",
    "print(str1)\n",
    "str2 = \"Hello!\" * 3\n",
    "print(str2)\n",
    "str3 = \"Hello!\\nHow Are You?\"\n",
    "print(str3)\n",
    "print (\"I'm\" + \" loving\" + \" it!\")\n",
    "print (\"I'm loving it\" + \"!\" * 3)"
   ]
  },
  {
   "cell_type": "code",
   "execution_count": 14,
   "metadata": {},
   "outputs": [
    {
     "name": "stdout",
     "output_type": "stream",
     "text": [
      "A\n",
      "J\n",
      "ACEG\n",
      "CEGIK\n",
      "ACEGIK\n",
      "['Do', 'one', 'thing', 'at', 'a', 'time!']\n",
      "['Do', '\\none', '\\nthing \\nat a time!']\n"
     ]
    }
   ],
   "source": [
    "#中括號[]搭配索引值 切割文字 PS.Python的索引值從0開始\n",
    "#冒號:進⾏行文字切割的時候\n",
    "#位於冒號 前 索引值的字元會被包含，但位於冒號 後 索引值的字元則不會被包含\n",
    "str = \"ABCDEFGHIJK\"\n",
    "print(str[0])\n",
    "print(str[-2])\n",
    "print(str[:7:2])\n",
    "print(str[2::2])\n",
    "print(str[::2])\n",
    "\n",
    "#⽤split()函數分割字串\n",
    "# 字串.split(分隔符號, 分割次數) \n",
    "str1 = \"Do \\none \\nthing \\nat a time!\"\n",
    "print(str1.split())\n",
    "print(str1.split( ' ', 2 ))"
   ]
  },
  {
   "cell_type": "code",
   "execution_count": 6,
   "metadata": {},
   "outputs": [
    {
     "name": "stdout",
     "output_type": "stream",
     "text": [
      "The first wealth is health! Health is important!,長度是48\n",
      "THE FIRST WEALTH IS HEALTH! HEALTH IS IMPORTANT!\n",
      "the first wealth is health! health is important!\n",
      "Health\n"
     ]
    },
    {
     "data": {
      "text/plain": [
       "'The first wealth is health! Health is 重要!'"
      ]
     },
     "execution_count": 6,
     "metadata": {},
     "output_type": "execute_result"
    }
   ],
   "source": [
    "str = \"The first wealth is health! Health is important!\"\n",
    "#len()計算字串長度\n",
    "print (\"{},長度是{}\" .format(str, len(str)))\n",
    "\n",
    "#upper()函數將字串字母轉換為 大寫\n",
    "print(str.upper())\n",
    "\n",
    "#lower()函數將字串字母轉換為 小寫\n",
    "print(str.lower())\n",
    "\n",
    "#capitalize()函數將字串首字轉換為 大寫\n",
    "print(\"health\".capitalize())\n",
    "\n",
    "#字串是否全部為大寫或小寫，用isupper()、islower()函數\n",
    "#若大小寫參雜，結果是false\n",
    "str.islower()\n",
    "\n",
    "#count()函數計算特定字串出現次數 \n",
    "str.count(\"health\")\n",
    "\n",
    "#strip()用於除去字串首尾的字元\n",
    "#lstrip()用於除去字串左邊的字元\n",
    "#rstrip()用於除去字串左邊的字元\n",
    "str.strip(\"h!\")\n",
    "\n",
    "#replace()字串替換\n",
    "#格式為字串.replace(原字串, 新字串[,替換次數])\n",
    "str.replace(\"important\", \"重要\")"
   ]
  },
  {
   "cell_type": "code",
   "execution_count": 18,
   "metadata": {},
   "outputs": [
    {
     "name": "stdout",
     "output_type": "stream",
     "text": [
      "2018-10-19\n",
      "<class 'datetime.date'>\n"
     ]
    }
   ],
   "source": [
    "#日期變數\n",
    "from datetime import date\n",
    "sys_date = date.today()\n",
    "print (sys_date)\n",
    "print (type(sys_date))"
   ]
  },
  {
   "cell_type": "code",
   "execution_count": 19,
   "metadata": {},
   "outputs": [
    {
     "data": {
      "text/plain": [
       "datetime.date(2017, 12, 31)"
      ]
     },
     "execution_count": 19,
     "metadata": {},
     "output_type": "execute_result"
    }
   ],
   "source": [
    "#date(year, month, day) \n",
    "from datetime import date\n",
    "start_of_2017 = date(2017, 1, 1)\n",
    "end_of_2017 = date(2017, 12, 31)\n",
    "start_of_2017\n",
    "end_of_2017"
   ]
  },
  {
   "cell_type": "code",
   "execution_count": 20,
   "metadata": {},
   "outputs": [
    {
     "data": {
      "text/plain": [
       "datetime.date(2018, 1, 1)"
      ]
     },
     "execution_count": 20,
     "metadata": {},
     "output_type": "execute_result"
    }
   ],
   "source": [
    "#replace()更改日期\n",
    "from datetime import date\n",
    "start_of_2017 = date(2017, 1, 1)\n",
    "start_of_2018 = start_of_2017.replace(year = 2018)\n",
    "start_of_2018"
   ]
  },
  {
   "cell_type": "code",
   "execution_count": 21,
   "metadata": {},
   "outputs": [
    {
     "data": {
      "text/plain": [
       "364"
      ]
     },
     "execution_count": 21,
     "metadata": {},
     "output_type": "execute_result"
    }
   ],
   "source": [
    "#計算兩個日期之間的間距\n",
    "from datetime import date\n",
    "start_of_2017 = date(2017, 1, 1)\n",
    "end_of_2017 = start_of_2017.replace(month = 12, day = 31)\n",
    "days_dff = end_of_2017 - start_of_2017\n",
    "days_dff.days"
   ]
  },
  {
   "cell_type": "code",
   "execution_count": 22,
   "metadata": {},
   "outputs": [
    {
     "data": {
      "text/plain": [
       "datetime.time"
      ]
     },
     "execution_count": 22,
     "metadata": {},
     "output_type": "execute_result"
    }
   ],
   "source": [
    "#在 time() 中設定時間，格式 time(hour, minute, second)\n",
    "from datetime import time\n",
    "sleep_time = time(23, 0, 0)\n",
    "sleep_time\n",
    "type(sleep_time)"
   ]
  },
  {
   "cell_type": "code",
   "execution_count": 23,
   "metadata": {},
   "outputs": [
    {
     "data": {
      "text/plain": [
       "datetime.time(7, 0)"
      ]
     },
     "execution_count": 23,
     "metadata": {},
     "output_type": "execute_result"
    }
   ],
   "source": [
    "# replace()更改時間\n",
    "from datetime import time\n",
    "sleep_time = time(23, 0, 0)\n",
    "wake_up_time = sleep_time.replace(hour = 7)\n",
    "wake_up_time"
   ]
  },
  {
   "cell_type": "code",
   "execution_count": 24,
   "metadata": {},
   "outputs": [
    {
     "data": {
      "text/plain": [
       "datetime.datetime"
      ]
     },
     "execution_count": 24,
     "metadata": {},
     "output_type": "execute_result"
    }
   ],
   "source": [
    "#更常用來處理時間的格式是日期時間\n",
    "from datetime import datetime\n",
    "sys_datetime = datetime.now()\n",
    "sys_datetime\n",
    "type(sys_datetime)"
   ]
  },
  {
   "cell_type": "code",
   "execution_count": 25,
   "metadata": {},
   "outputs": [
    {
     "data": {
      "text/plain": [
       "datetime.datetime(2017, 1, 1, 0, 0)"
      ]
     },
     "execution_count": 25,
     "metadata": {},
     "output_type": "execute_result"
    }
   ],
   "source": [
    "#datetime(year, month, day, hour, minute, second)\n",
    "#這樣的參數格式在 datetime()中設定日期時間\n",
    "from datetime import datetime\n",
    "start_of_2017 = datetime(2017, 1, 1, 0, 0, 0)\n",
    "start_of_2017"
   ]
  },
  {
   "cell_type": "code",
   "execution_count": 26,
   "metadata": {},
   "outputs": [
    {
     "data": {
      "text/plain": [
       "datetime.datetime(2017, 12, 31, 23, 59, 59)"
      ]
     },
     "execution_count": 26,
     "metadata": {},
     "output_type": "execute_result"
    }
   ],
   "source": [
    "# replace()方法更改日期時間\n",
    "from datetime import datetime\n",
    "start_of_2017 = datetime(2017, 1, 1, 0, 0, 1)\n",
    "end_of_2017 = start_of_2017.replace(month = 12, day = 31, hour = 23, minute = 59, second = 59)\n",
    "end_of_2017"
   ]
  },
  {
   "cell_type": "code",
   "execution_count": 2,
   "metadata": {},
   "outputs": [
    {
     "data": {
      "text/plain": [
       "86398"
      ]
     },
     "execution_count": 2,
     "metadata": {},
     "output_type": "execute_result"
    }
   ],
   "source": [
    "#計算兩個日期時間的間距\n",
    "from datetime import datetime\n",
    "start_of_2017 = datetime(2017, 1, 1, 0, 0, 1)\n",
    "end_of_2017 = start_of_2017.replace(month = 12, day = 31, hour = 23, minute = 59, second = 59)\n",
    "date_time_diff = end_of_2017 - start_of_2017\n",
    "\n",
    "#以天數表示\n",
    "date_time_diff.days\n",
    "\n",
    "#以秒數表示\n",
    "date_time_diff.seconds"
   ]
  },
  {
   "cell_type": "code",
   "execution_count": 8,
   "metadata": {},
   "outputs": [],
   "source": [
    "starring_1 = \"Jennifer Aniston\"\n",
    "starring_2 = \"Courteney Cox\"\n",
    "starring_3 = \"Lisa Kudrow\"\n",
    "starring_4 = \"Matt LeBlanc\"\n",
    "starring_5 = \"Matthew Perry\"\n",
    "starring_6 = \"David Schwimmer\""
   ]
  },
  {
   "cell_type": "code",
   "execution_count": 9,
   "metadata": {},
   "outputs": [
    {
     "data": {
      "text/plain": [
       "['Jennifer Aniston',\n",
       " 'Courteney Cox',\n",
       " 'Lisa Kudrow',\n",
       " 'Matt LeBlanc',\n",
       " 'Matthew Perry',\n",
       " 'David Schwimmer']"
      ]
     },
     "execution_count": 9,
     "metadata": {},
     "output_type": "execute_result"
    }
   ],
   "source": [
    "starrings = [\"Jennifer Aniston\", \"Courteney Cox\", \"Lisa Kudrow\", \"Matt LeBlanc\", \"Matthew Perry\", \"David Schwimmer\"]\n",
    "starrings\n"
   ]
  },
  {
   "cell_type": "code",
   "execution_count": 10,
   "metadata": {},
   "outputs": [
    {
     "data": {
      "text/plain": [
       "list"
      ]
     },
     "execution_count": 10,
     "metadata": {},
     "output_type": "execute_result"
    }
   ],
   "source": [
    "#例⼀\n",
    "genre = \"sitcom\"\n",
    "no_of_episodes = 236\n",
    "still_airing = False\n",
    "friends = [genre, no_of_episodes, still_airing]\n",
    "friends\n",
    "type(friends)"
   ]
  },
  {
   "cell_type": "code",
   "execution_count": 11,
   "metadata": {},
   "outputs": [
    {
     "data": {
      "text/plain": [
       "list"
      ]
     },
     "execution_count": 11,
     "metadata": {},
     "output_type": "execute_result"
    }
   ],
   "source": [
    "#例⼆\n",
    "team_name = \"Chicago Bulls\"\n",
    "wins = 72\n",
    "losses = 10\n",
    "win_percentage = wins / (wins + losses)\n",
    "is_champion = True\n",
    "chicago_bulls = [team_name, wins, losses, win_percentage, is_champion]\n",
    "type(chicago_bulls)"
   ]
  },
  {
   "cell_type": "code",
   "execution_count": 12,
   "metadata": {},
   "outputs": [
    {
     "name": "stdout",
     "output_type": "stream",
     "text": [
      "3\n",
      "['Apple', 'Orange', 'Lemon', 'Mongo']\n",
      "['Apple', 'banana', 'Orange', 'Lemon', 'Mongo']\n",
      "['banana', 'Orange', 'Lemon', 'Mongo']\n",
      "['banana', 'Lemon', 'Mongo']\n",
      "['Lemon', 'Mongo', 'banana']\n"
     ]
    }
   ],
   "source": [
    "#Python 的索引值從 0 開始算\n",
    "fruitlist = [\"Apple\", \"Orange\", \"Lemon\"]\n",
    "\n",
    "#len() 計算串列物件長度\n",
    "print(len(fruitlist))\n",
    "\n",
    "#append() 將新元素加到末端\n",
    "fruitlist.append(\"Mongo\")\n",
    "print(fruitlist)\n",
    "\n",
    "#insert() 將新元素加到指定位置\n",
    "fruitlist.insert(1, \"banana\")\n",
    "print(fruitlist)\n",
    "\n",
    "#remove() 將括號內指明元素移除\n",
    "fruitlist.remove(\"Apple\")\n",
    "print(fruitlist)\n",
    "\n",
    "#pop() 將括號內指定位置索引元素移除\n",
    "fruitlist.pop(1)\n",
    "print(fruitlist)\n",
    "\n",
    "#sort() 將串列資料排序\n",
    "fruitlist.sort()\n",
    "print(fruitlist)\n",
    "\n",
    "#reverse() 將串列加以反轉\n",
    "#sum() 加總串列元素和 \n",
    "#max()、min() 回傳串列最大、最小值\n"
   ]
  },
  {
   "cell_type": "code",
   "execution_count": 14,
   "metadata": {},
   "outputs": [
    {
     "data": {
      "text/plain": [
       "'Jennifer Aniston'"
      ]
     },
     "execution_count": 14,
     "metadata": {},
     "output_type": "execute_result"
    }
   ],
   "source": [
    "starrings = [\"Jennifer Aniston\", \"Courteney Cox\", \"Lisa Kudrow\", \"Matt LeBlanc\", \"Matthew Perry\", \"David Schwimmer\"]\n",
    "starrings[0]"
   ]
  },
  {
   "cell_type": "code",
   "execution_count": 15,
   "metadata": {},
   "outputs": [
    {
     "data": {
      "text/plain": [
       "'David Schwimmer'"
      ]
     },
     "execution_count": 15,
     "metadata": {},
     "output_type": "execute_result"
    }
   ],
   "source": [
    "starrings = [\"Jennifer Aniston\", \"Courteney Cox\", \"Lisa Kudrow\", \"Matt LeBlanc\", \"Matthew Perry\", \"David Schwimmer\"]\n",
    "starrings[-1]"
   ]
  },
  {
   "cell_type": "code",
   "execution_count": 16,
   "metadata": {},
   "outputs": [
    {
     "data": {
      "text/plain": [
       "['Jennifer Aniston', 'Courteney Cox', 'Lisa Kudrow']"
      ]
     },
     "execution_count": 16,
     "metadata": {},
     "output_type": "execute_result"
    }
   ],
   "source": [
    "# [start:end]\n",
    "#starrings[:3]的輸出 沒有 包含位於索引值3的 \"Matt LeBlanc\"\n",
    "starrings = [\"Jennifer Aniston\", \"Courteney Cox\", \"Lisa Kudrow\", \"Matt LeBlanc\", \"Matthew Perry\", \"David Schwimmer\"]\n",
    "starrings[:3]"
   ]
  },
  {
   "cell_type": "code",
   "execution_count": 18,
   "metadata": {},
   "outputs": [
    {
     "data": {
      "text/plain": [
       "['Matt LeBlanc', 'Matthew Perry', 'David Schwimmer']"
      ]
     },
     "execution_count": 18,
     "metadata": {},
     "output_type": "execute_result"
    }
   ],
   "source": [
    "#starrings[3:] 的輸出則 有 包含位於索引值3的 \"Matt LeBlanc\"\n",
    "starrings = [\"Jennifer Aniston\", \"Courteney Cox\", \"Lisa Kudrow\", \"Matt LeBlanc\", \"Matthew Perry\", \"David Schwimmer\"]\n",
    "starrings[3:]"
   ]
  },
  {
   "cell_type": "code",
   "execution_count": 23,
   "metadata": {},
   "outputs": [
    {
     "data": {
      "text/plain": [
       "bool"
      ]
     },
     "execution_count": 23,
     "metadata": {},
     "output_type": "execute_result"
    }
   ],
   "source": [
    "genre = \"sitcom\"\n",
    "no_of_episodes = 236\n",
    "still_airing = False\n",
    "friends = [genre, no_of_episodes, still_airing]\n",
    "type(friends[0])\n",
    "type(friends[1])\n",
    "type(friends[2])"
   ]
  },
  {
   "cell_type": "code",
   "execution_count": null,
   "metadata": {},
   "outputs": [],
   "source": []
  }
 ],
 "metadata": {
  "kernelspec": {
   "display_name": "Python 3",
   "language": "python",
   "name": "python3"
  },
  "language_info": {
   "codemirror_mode": {
    "name": "ipython",
    "version": 3
   },
   "file_extension": ".py",
   "mimetype": "text/x-python",
   "name": "python",
   "nbconvert_exporter": "python",
   "pygments_lexer": "ipython3",
   "version": "3.6.5"
  }
 },
 "nbformat": 4,
 "nbformat_minor": 2
}
